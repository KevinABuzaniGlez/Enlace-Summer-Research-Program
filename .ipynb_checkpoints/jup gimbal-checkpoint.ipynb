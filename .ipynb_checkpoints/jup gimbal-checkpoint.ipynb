{
 "cells": [
  {
   "cell_type": "markdown",
   "id": "d86008ee",
   "metadata": {},
   "source": [
    "# Gimbal Lock.\n",
    "\n",
    "This program is a demonstration of gimbal lock. A gimbal has 3 Degrees of Freedom. If the first term ring o the third term ring becomes parallel to the middle one, the gimbal lock and it loses a DoF. This can be avoided by knowing when gimbal lock will occur and take it to account when you do the rotations. Also by adding a fourth ring but it isn't convinient in robot simulation. "
   ]
  },
  {
   "cell_type": "markdown",
   "id": "1c541a20-1bf3-4b25-942a-0b12d4532253",
   "metadata": {},
   "source": [
    "First we import the libraries. Then we set some variables that are going to be useful later in the code. After that we initialize the physics server as a GUI, and define the variable useFixedBase."
   ]
  },
  {
   "cell_type": "code",
   "execution_count": 1,
   "id": "aae5f73e-2c42-4a82-9f3e-79d613b0df89",
   "metadata": {},
   "outputs": [
    {
     "ename": "ModuleNotFoundError",
     "evalue": "No module named 'matplotlib'",
     "output_type": "error",
     "traceback": [
      "\u001b[1;31m---------------------------------------------------------------------------\u001b[0m",
      "\u001b[1;31mModuleNotFoundError\u001b[0m                       Traceback (most recent call last)",
      "Input \u001b[1;32mIn [1]\u001b[0m, in \u001b[0;36m<cell line: 1>\u001b[1;34m()\u001b[0m\n\u001b[1;32m----> 1\u001b[0m \u001b[43mget_ipython\u001b[49m\u001b[43m(\u001b[49m\u001b[43m)\u001b[49m\u001b[38;5;241;43m.\u001b[39;49m\u001b[43mrun_line_magic\u001b[49m\u001b[43m(\u001b[49m\u001b[38;5;124;43m'\u001b[39;49m\u001b[38;5;124;43mmatplotlib\u001b[39;49m\u001b[38;5;124;43m'\u001b[39;49m\u001b[43m,\u001b[49m\u001b[43m \u001b[49m\u001b[38;5;124;43m'\u001b[39;49m\u001b[38;5;124;43mipympl\u001b[39;49m\u001b[38;5;124;43m'\u001b[39;49m\u001b[43m)\u001b[49m\n\u001b[0;32m      2\u001b[0m \u001b[38;5;28;01mimport\u001b[39;00m \u001b[38;5;21;01mpybullet\u001b[39;00m \u001b[38;5;28;01mas\u001b[39;00m \u001b[38;5;21;01mpb\u001b[39;00m\n\u001b[0;32m      3\u001b[0m \u001b[38;5;28;01mimport\u001b[39;00m \u001b[38;5;21;01mpybullet_data\u001b[39;00m\n",
      "File \u001b[1;32mc:\\users\\kevin buzani\\miniconda3\\lib\\site-packages\\IPython\\core\\interactiveshell.py:2305\u001b[0m, in \u001b[0;36mInteractiveShell.run_line_magic\u001b[1;34m(self, magic_name, line, _stack_depth)\u001b[0m\n\u001b[0;32m   2303\u001b[0m     kwargs[\u001b[38;5;124m'\u001b[39m\u001b[38;5;124mlocal_ns\u001b[39m\u001b[38;5;124m'\u001b[39m] \u001b[38;5;241m=\u001b[39m \u001b[38;5;28mself\u001b[39m\u001b[38;5;241m.\u001b[39mget_local_scope(stack_depth)\n\u001b[0;32m   2304\u001b[0m \u001b[38;5;28;01mwith\u001b[39;00m \u001b[38;5;28mself\u001b[39m\u001b[38;5;241m.\u001b[39mbuiltin_trap:\n\u001b[1;32m-> 2305\u001b[0m     result \u001b[38;5;241m=\u001b[39m fn(\u001b[38;5;241m*\u001b[39margs, \u001b[38;5;241m*\u001b[39m\u001b[38;5;241m*\u001b[39mkwargs)\n\u001b[0;32m   2306\u001b[0m \u001b[38;5;28;01mreturn\u001b[39;00m result\n",
      "File \u001b[1;32mc:\\users\\kevin buzani\\miniconda3\\lib\\site-packages\\IPython\\core\\magics\\pylab.py:99\u001b[0m, in \u001b[0;36mPylabMagics.matplotlib\u001b[1;34m(self, line)\u001b[0m\n\u001b[0;32m     97\u001b[0m     \u001b[38;5;28mprint\u001b[39m(\u001b[38;5;124m\"\u001b[39m\u001b[38;5;124mAvailable matplotlib backends: \u001b[39m\u001b[38;5;132;01m%s\u001b[39;00m\u001b[38;5;124m\"\u001b[39m \u001b[38;5;241m%\u001b[39m backends_list)\n\u001b[0;32m     98\u001b[0m \u001b[38;5;28;01melse\u001b[39;00m:\n\u001b[1;32m---> 99\u001b[0m     gui, backend \u001b[38;5;241m=\u001b[39m \u001b[38;5;28;43mself\u001b[39;49m\u001b[38;5;241;43m.\u001b[39;49m\u001b[43mshell\u001b[49m\u001b[38;5;241;43m.\u001b[39;49m\u001b[43menable_matplotlib\u001b[49m\u001b[43m(\u001b[49m\u001b[43margs\u001b[49m\u001b[38;5;241;43m.\u001b[39;49m\u001b[43mgui\u001b[49m\u001b[38;5;241;43m.\u001b[39;49m\u001b[43mlower\u001b[49m\u001b[43m(\u001b[49m\u001b[43m)\u001b[49m\u001b[43m \u001b[49m\u001b[38;5;28;43;01mif\u001b[39;49;00m\u001b[43m \u001b[49m\u001b[38;5;28;43misinstance\u001b[39;49m\u001b[43m(\u001b[49m\u001b[43margs\u001b[49m\u001b[38;5;241;43m.\u001b[39;49m\u001b[43mgui\u001b[49m\u001b[43m,\u001b[49m\u001b[43m \u001b[49m\u001b[38;5;28;43mstr\u001b[39;49m\u001b[43m)\u001b[49m\u001b[43m \u001b[49m\u001b[38;5;28;43;01melse\u001b[39;49;00m\u001b[43m \u001b[49m\u001b[43margs\u001b[49m\u001b[38;5;241;43m.\u001b[39;49m\u001b[43mgui\u001b[49m\u001b[43m)\u001b[49m\n\u001b[0;32m    100\u001b[0m     \u001b[38;5;28mself\u001b[39m\u001b[38;5;241m.\u001b[39m_show_matplotlib_backend(args\u001b[38;5;241m.\u001b[39mgui, backend)\n",
      "File \u001b[1;32mc:\\users\\kevin buzani\\miniconda3\\lib\\site-packages\\IPython\\core\\interactiveshell.py:3478\u001b[0m, in \u001b[0;36mInteractiveShell.enable_matplotlib\u001b[1;34m(self, gui)\u001b[0m\n\u001b[0;32m   3457\u001b[0m \u001b[38;5;28;01mdef\u001b[39;00m \u001b[38;5;21menable_matplotlib\u001b[39m(\u001b[38;5;28mself\u001b[39m, gui\u001b[38;5;241m=\u001b[39m\u001b[38;5;28;01mNone\u001b[39;00m):\n\u001b[0;32m   3458\u001b[0m     \u001b[38;5;124;03m\"\"\"Enable interactive matplotlib and inline figure support.\u001b[39;00m\n\u001b[0;32m   3459\u001b[0m \n\u001b[0;32m   3460\u001b[0m \u001b[38;5;124;03m    This takes the following steps:\u001b[39;00m\n\u001b[1;32m   (...)\u001b[0m\n\u001b[0;32m   3476\u001b[0m \u001b[38;5;124;03m        display figures inline.\u001b[39;00m\n\u001b[0;32m   3477\u001b[0m \u001b[38;5;124;03m    \"\"\"\u001b[39;00m\n\u001b[1;32m-> 3478\u001b[0m     \u001b[38;5;28;01mfrom\u001b[39;00m \u001b[38;5;21;01mmatplotlib_inline\u001b[39;00m\u001b[38;5;21;01m.\u001b[39;00m\u001b[38;5;21;01mbackend_inline\u001b[39;00m \u001b[38;5;28;01mimport\u001b[39;00m configure_inline_support\n\u001b[0;32m   3480\u001b[0m     \u001b[38;5;28;01mfrom\u001b[39;00m \u001b[38;5;21;01mIPython\u001b[39;00m\u001b[38;5;21;01m.\u001b[39;00m\u001b[38;5;21;01mcore\u001b[39;00m \u001b[38;5;28;01mimport\u001b[39;00m pylabtools \u001b[38;5;28;01mas\u001b[39;00m pt\n\u001b[0;32m   3481\u001b[0m     gui, backend \u001b[38;5;241m=\u001b[39m pt\u001b[38;5;241m.\u001b[39mfind_gui_and_backend(gui, \u001b[38;5;28mself\u001b[39m\u001b[38;5;241m.\u001b[39mpylab_gui_select)\n",
      "File \u001b[1;32mc:\\users\\kevin buzani\\miniconda3\\lib\\site-packages\\matplotlib_inline\\backend_inline.py:6\u001b[0m, in \u001b[0;36m<module>\u001b[1;34m\u001b[0m\n\u001b[0;32m      1\u001b[0m \u001b[38;5;124;03m\"\"\"A matplotlib backend for publishing figures via display_data\"\"\"\u001b[39;00m\n\u001b[0;32m      3\u001b[0m \u001b[38;5;66;03m# Copyright (c) IPython Development Team.\u001b[39;00m\n\u001b[0;32m      4\u001b[0m \u001b[38;5;66;03m# Distributed under the terms of the BSD 3-Clause License.\u001b[39;00m\n\u001b[1;32m----> 6\u001b[0m \u001b[38;5;28;01mimport\u001b[39;00m \u001b[38;5;21;01mmatplotlib\u001b[39;00m\n\u001b[0;32m      7\u001b[0m \u001b[38;5;28;01mfrom\u001b[39;00m \u001b[38;5;21;01mmatplotlib\u001b[39;00m\u001b[38;5;21;01m.\u001b[39;00m\u001b[38;5;21;01mbackends\u001b[39;00m\u001b[38;5;21;01m.\u001b[39;00m\u001b[38;5;21;01mbackend_agg\u001b[39;00m \u001b[38;5;28;01mimport\u001b[39;00m (  \u001b[38;5;66;03m# noqa\u001b[39;00m\n\u001b[0;32m      8\u001b[0m     new_figure_manager,\n\u001b[0;32m      9\u001b[0m     FigureCanvasAgg,\n\u001b[0;32m     10\u001b[0m     new_figure_manager_given_figure,\n\u001b[0;32m     11\u001b[0m )\n\u001b[0;32m     12\u001b[0m \u001b[38;5;28;01mfrom\u001b[39;00m \u001b[38;5;21;01mmatplotlib\u001b[39;00m \u001b[38;5;28;01mimport\u001b[39;00m colors\n",
      "\u001b[1;31mModuleNotFoundError\u001b[0m: No module named 'matplotlib'"
     ]
    }
   ],
   "source": [
    "%matplotlib ipympl\n",
    "import pybullet as pb\n",
    "import pybullet_data\n",
    "import ipympl\n",
    "import matplotlib.pyplot\n",
    "\n",
    "\n",
    "#GUI\n",
    "physicsClient = pb.connect(pb.DIRECT)\n",
    "#physicsClient = pb.connect(pb.GUI)\n",
    "\n",
    "#Plane \n",
    "pb.setAdditionalSearchPath(pybullet_data.getDataPath())\n",
    "plane= pb.loadURDF('plane.urdf')\n",
    "\n",
    "useFixedBase=True"
   ]
  },
  {
   "cell_type": "code",
   "execution_count": 2,
   "id": "28a93825",
   "metadata": {},
   "outputs": [],
   "source": [
    "from dataclasses import dataclass\n",
    "from pandas import array\n",
    "import transforms3d as tf \n",
    "import numpy as np\n",
    "from numpy import ndarray, uint8\n",
    "from matplotlib.image import AxesImage\n",
    "\n",
    "#Functions and Variables\n",
    "\n",
    "#Corrects the pose of the gimbal in pybullet \n",
    "def Pose(Ring1,Ring2,Ring3,PosR1,PosR2,PosR3):\n",
    "  pb.resetBasePositionAndOrientation(Ring1,[0,0,1], PosR1) \n",
    "  pb.resetBasePositionAndOrientation(Ring2,[0,0,1], PosR2)        \n",
    "  pb.resetBasePositionAndOrientation(Ring3,[0,0,1], PosR3)\n",
    "\n",
    "@dataclass\n",
    "class Configs:\n",
    "    roll_Camera  = np.pi/4\n",
    "    pitch_Camera = -10.0\n",
    "    yaw_Camera=np.pi/4\n",
    "    fov=60\n",
    "    pixelWidth = 1500\n",
    "    pixelHeight = 700\n",
    "    upAxisIndex = 2\n",
    "    camDistance = 4\n",
    "    Near = 0.01\n",
    "    Far = 100\n",
    "    R=0.0 # Roll_Slider\n",
    "    P=0.0 # Pitch_Slider\n",
    "    Y=0.0 # Yaw_Slider\n",
    "    i=0.0\n",
    "    w:int=0\n",
    "    h:int=0\n",
    "    rgb:tuple=()\n",
    "    cameraPos = [1, 1, 1]\n",
    "    camTargetPos = [0, 0, 0]\n",
    "    np_img_arr: np.ndarray = ()\n",
    "    img_data: AxesImage = ()\n",
    "\n",
    "\n",
    "configs = Configs()\n",
    "\n"
   ]
  },
  {
   "cell_type": "markdown",
   "id": "4172c917",
   "metadata": {},
   "source": [
    "Figure 1 shows that when we run the program we can se that we spawn the environment. "
   ]
  },
  {
   "cell_type": "markdown",
   "id": "3b8bdd0d",
   "metadata": {},
   "source": [
    "\n",
    "\n",
    "In this section, we load the three rings that are going to be used to make a gimbal. Notice that when we load the Urdf files, I put useFixedBase, that is because we need that the rings are not able to move.\n",
    "\n",
    "Then we set some sliders, there we define the name of the slider, the range and set the startup number."
   ]
  },
  {
   "cell_type": "code",
   "execution_count": 3,
   "id": "183bb03a",
   "metadata": {},
   "outputs": [],
   "source": [
    "#Ring 1 \n",
    "Ring1=pb.loadURDF(\"3rd ring.urdf\", useFixedBase= useFixedBase) # 3rd term / Outer ring\n",
    "\n",
    "#Ring 2\n",
    "Ring2=pb.loadURDF(\"1st ring.urdf\", useFixedBase= useFixedBase) # Middle ring\n",
    "\n",
    "#Ring 3\n",
    "Ring3=pb.loadURDF(\"2nd ring.urdf\", useFixedBase= useFixedBase) # 1st term/ Inner ring\n"
   ]
  },
  {
   "cell_type": "markdown",
   "id": "3bead242",
   "metadata": {},
   "source": [
    "***Simulation steps***\n",
    "\n",
    "In this part of the code, first we make the program read the keyboard so we can code some keyboard events, and define which keys are set to do an specific action.Then we make the system read the parameters we define outside the loop so they can appear in the simulation constantly. This parameters define zyx (Roll, Pitch, Yaw) of the gimbal given in Euler Angles. After that, we define the actions of the keys, this actions trigger gimbal lock.\n",
    "\n",
    "Finally, using the library Transforms3d, we convert the Euler angles to quarternions to define, and then we define the pose of the gimbal.\n",
    "\n",
    "The rotation sequence I used is: Rzyx\n",
    "\n",
    "$R = R_z(\\psi) R_y(\\theta) R_x(\\phi)$\n",
    "\n",
    "$R=\\begin{bmatrix}cos(\\psi) & -sin(\\psi) & 0\\\\ sin(\\psi) & cos(\\psi) & 0 \\\\ 0 & 0 & 1 \\end{bmatrix} * \\begin{bmatrix}cos(\\theta) & 0 & sin(\\theta)\\\\ 0 & 1 & 0 \\\\ -sin(\\theta) & 0 & cos(\\theta) \\end{bmatrix} * \\begin{bmatrix} 1 & 0 & 0\\\\ 0 & cos(\\phi) & -sin(\\phi) \\\\0 & sin(\\phi) & cos(\\phi) \\end{bmatrix}$ \n",
    "\n",
    "We use the camera to get the image of the giroscope so we can plot it with matplotlib."
   ]
  },
  {
   "cell_type": "code",
   "execution_count": 4,
   "id": "41aeb3e5",
   "metadata": {
    "scrolled": true
   },
   "outputs": [
    {
     "data": {
      "application/vnd.jupyter.widget-view+json": {
       "model_id": "62076a24c9ec4e01a2b12b5e8c02b3a2",
       "version_major": 2,
       "version_minor": 0
      },
      "text/plain": [
       "FloatSlider(value=0.0, description='Roll', max=3.141592653589793, min=-3.141592653589793, step=0.05)"
      ]
     },
     "metadata": {},
     "output_type": "display_data"
    },
    {
     "data": {
      "application/vnd.jupyter.widget-view+json": {
       "model_id": "a24a377ef8c3406f9e0c6be55a37962b",
       "version_major": 2,
       "version_minor": 0
      },
      "text/plain": [
       "FloatSlider(value=0.0, description='Pitch', max=3.141592653589793, min=-3.141592653589793, step=0.05)"
      ]
     },
     "metadata": {},
     "output_type": "display_data"
    },
    {
     "data": {
      "application/vnd.jupyter.widget-view+json": {
       "model_id": "9d13582c79f7476ab7084ed14721efaa",
       "version_major": 2,
       "version_minor": 0
      },
      "text/plain": [
       "FloatSlider(value=0.0, description='Yaw', max=3.141592653589793, min=-3.141592653589793, step=0.05)"
      ]
     },
     "metadata": {},
     "output_type": "display_data"
    },
    {
     "data": {
      "application/vnd.jupyter.widget-view+json": {
       "model_id": "385e951bd16744ae86b78bc5a105e70a",
       "version_major": 2,
       "version_minor": 0
      },
      "text/plain": [
       "Button(description='Show Graph', style=ButtonStyle())"
      ]
     },
     "metadata": {},
     "output_type": "display_data"
    },
    {
     "data": {
      "application/vnd.jupyter.widget-view+json": {
       "model_id": "6df5e6eeb5c54274b3b4aff48aabbac1",
       "version_major": 2,
       "version_minor": 0
      },
      "text/plain": [
       "Output()"
      ]
     },
     "metadata": {},
     "output_type": "display_data"
    },
    {
     "data": {
      "application/vnd.jupyter.widget-view+json": {
       "model_id": "a620950046a44293b2d8ee8eaa441eca",
       "version_major": 2,
       "version_minor": 0
      },
      "text/plain": [
       "Output()"
      ]
     },
     "metadata": {},
     "output_type": "display_data"
    }
   ],
   "source": [
    "from IPython.display import clear_output\n",
    "import matplotlib.pyplot as plt\n",
    "import ipywidgets as widgets\n",
    "import time\n",
    "\n",
    "# Create the sliders and a button \n",
    "Slider_1 = widgets.FloatSlider(value=configs.R, description= 'Roll' ,min=-np.pi, max=np.pi, step=0.05) #Roll\n",
    "Slider_2 = widgets.FloatSlider(value=configs.P, description= 'Pitch' ,min=-np.pi, max=np.pi, step=0.05) #Pitch\n",
    "Slider_3 = widgets.FloatSlider(value=configs.Y, description= 'Yaw' ,min=-np.pi, max=np.pi, step=0.05) #Yaw\n",
    "\n",
    "Updt=widgets.Button(description='Show Graph') # This button is used to update the image of the gimbal\n",
    "\n",
    "# Outputs \n",
    "output2 = widgets.Output() #Image output\n",
    "output_Sliders=widgets.Output() #Sliders output\n",
    "\n",
    "\n",
    "# Display Widgets, and Outputs\n",
    "display(Slider_1,Slider_2,Slider_3,Updt,output2,output_Sliders)\n",
    "\n",
    "# The following three functions are used to change the value of the rotations of the gimbal\n",
    "\n",
    "# Roll funtion \n",
    "def value_slider(change):\n",
    "    with output_Sliders:\n",
    "        clear_output()\n",
    "        configs.R=change['new']\n",
    "\n",
    "# Pitch function\n",
    "def value_slider1(change):\n",
    "    with output_Sliders:\n",
    "        clear_output()\n",
    "        configs.P=change['new']\n",
    "\n",
    "# Yaw function\n",
    "def value_slider2(change):\n",
    "    with output_Sliders:\n",
    "        clear_output()\n",
    "        configs.Y=change['new']\n",
    "\n",
    "# These callback functions are activated when you move the sliders.        \n",
    "\n",
    "# Main Function\n",
    "def Update_Value(b):\n",
    "    with output2:\n",
    "        clear_output()\n",
    "        PosR1=tf.euler.euler2quat(0,np.pi/2,configs.Y, 'rzyx') # 3rd term / Outer ring\n",
    "        PosR2=tf.euler.euler2quat(0, configs.P+np.pi,configs.Y, 'rzyx') # Middle ring\n",
    "        PosR3=tf.euler.euler2quat(np.pi/2+configs.R,np.pi+configs.P,configs.Y, 'rzyx') # 1st term/ Inner ring\n",
    " \n",
    "        # Calls function for pose\n",
    "        Pose(Ring1,Ring2,Ring3,PosR1,PosR2,PosR3)\n",
    "\n",
    "        # Renders the image\n",
    "        viewMatrix = pb.computeViewMatrixFromYawPitchRoll(configs.camTargetPos, configs.camDistance, configs.yaw_Camera, configs.pitch_Camera,\n",
    "                                                                configs.roll_Camera, configs.upAxisIndex)\n",
    "        aspect = configs.pixelWidth / configs.pixelHeight\n",
    "        projectionMatrix = pb.computeProjectionMatrixFOV(configs.fov, aspect, configs.Near, configs.Far)\n",
    "\n",
    "        img_arr = pb.getCameraImage(configs.pixelWidth,\n",
    "                                        configs.pixelHeight,\n",
    "                                        viewMatrix,\n",
    "                                        projectionMatrix,\n",
    "                                        shadow=1,\n",
    "                                        lightDirection=[1, 1, 1],\n",
    "                                        renderer=pb.ER_TINY_RENDERER)\n",
    "\n",
    "        configs.w = img_arr[0]  #width of the image, in pixels\n",
    "        configs.h = img_arr[1]  #height of the image, in pixels\n",
    "        configs.rgb = img_arr[2]  #color data RGB\n",
    "\n",
    "     \n",
    "        configs.np_img_arr = np.reshape(configs.rgb, (configs.h, configs.w, 4)).astype(np.uint8)\n",
    "\n",
    "        if configs.i==0:\n",
    "            configs.img_data = plt.imshow(configs.np_img_arr) \n",
    "            configs.i=1\n",
    "        else:\n",
    "            configs.img_data.set_data(configs.np_img_arr)\n",
    "        \n",
    "\n",
    "        plt.title('Gimbal')\n",
    "        plt.axis('off')\n",
    "        plt.pause(.00001)\n",
    "\n",
    " \n",
    "# Links the button with the main function \n",
    "Updt.on_click(Update_Value)\n",
    "\n",
    "# Checks the state of the value of each slider\n",
    "\n",
    "Slider_1.observe(value_slider, names='value')\n",
    "Slider_2.observe(value_slider1, names='value')\n",
    "Slider_3.observe(value_slider2, names='value')"
   ]
  }
 ],
 "metadata": {
  "kernelspec": {
   "display_name": "Python 3 (ipykernel)",
   "language": "python",
   "name": "python3"
  },
  "language_info": {
   "codemirror_mode": {
    "name": "ipython",
    "version": 3
   },
   "file_extension": ".py",
   "mimetype": "text/x-python",
   "name": "python",
   "nbconvert_exporter": "python",
   "pygments_lexer": "ipython3",
   "version": "3.9.5"
  },
  "vscode": {
   "interpreter": {
    "hash": "7a4ea60af49e7ee9128cba5bcf467a3789c2ece0ff23513ce3e913ea824bfd2c"
   }
  }
 },
 "nbformat": 4,
 "nbformat_minor": 5
}
